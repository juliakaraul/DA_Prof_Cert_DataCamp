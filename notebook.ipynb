{
 "cells": [
  {
   "cell_type": "markdown",
   "id": "a3d4387f-fa24-4a80-906b-4cca195b6736",
   "metadata": {},
   "source": [
    "# Data Analyst Professional Practical Exam Submission\n",
    "\n",
    "**You can use any tool that you want to do your analysis and create visualizations. Use this template to write up your summary for submission.**\n",
    "\n",
    "You can use any markdown formatting you wish. If you are not familiar with Markdown, read the [Markdown Guide](https://s3.amazonaws.com/talent-assets.datacamp.com/Markdown+Guide.pdf) before you start.\n"
   ]
  },
  {
   "cell_type": "markdown",
   "id": "562d9d77-2e1e-4523-a28e-1e3b388f930c",
   "metadata": {},
   "source": [
    "## 📝 Task List\n",
    "\n",
    "Your written report should include written text summaries and graphics of the following:\n",
    "- Data validation:   \n",
    "  - Describe validation and cleaning steps for every column in the data \n",
    "- Exploratory Analysis:  \n",
    "  - Include two different graphics showing single variables only to demonstrate the characteristics of data  \n",
    "  - Include at least one graphic showing two or more variables to represent the relationship between features\n",
    "  - Describe your findings\n",
    "- Definition of a metric for the business to monitor  \n",
    "  - How should the business use the metric to monitor the business problem\n",
    "  - Can you estimate initial value(s) for the metric based on the current data\n",
    "- Final summary including recommendations that the business should undertake\n"
   ]
  },
  {
   "cell_type": "markdown",
   "id": "c22f7f5b-2a69-4515-8b29-7b0e94829f11",
   "metadata": {},
   "source": [
    "# Task 1. Data Validation & Cleaning\n"
   ]
  },
  {
   "cell_type": "code",
   "execution_count": 1,
   "id": "84fb6ab4-af0f-4f60-9db2-023e24aed9e5",
   "metadata": {
    "executionCancelledAt": null,
    "executionTime": 3807,
    "lastExecutedAt": 1706615973868,
    "lastScheduledRunId": null,
    "lastSuccessfullyExecutedCode": "# Importing required libraries and getting overview to start cleaning\n\nimport pandas as pd\nimport matplotlib.pyplot as plt\nimport seaborn as sns\nfrom datetime import datetime\n\n# Loading the dataset and view the first few rows\ndf = pd.read_csv('product_sales.csv')\ndf.head()",
    "outputsMetadata": {
     "0": {
      "height": 198,
      "type": "dataFrame"
     }
    }
   },
   "outputs": [
    {
     "data": {
      "application/com.datacamp.data-table.v2+json": {
       "table": {
        "data": {
         "customer_id": [
          "2e72d641-95ac-497b-bbf8-4861764a7097",
          "3998a98d-70f5-44f7-942e-789bb8ad2fe7",
          "d1de9884-8059-4065-b10f-86eef57e4a44",
          "78aa75a4-ffeb-4817-b1d0-2f030783c5d7",
          "10e6d446-10a5-42e5-8210-1b5438f70922"
         ],
         "index": [
          0,
          1,
          2,
          3,
          4
         ],
         "nb_site_visits": [
          24,
          28,
          26,
          25,
          28
         ],
         "nb_sold": [
          10,
          15,
          11,
          11,
          9
         ],
         "revenue": [
          null,
          225.47,
          52.55,
          null,
          90.49
         ],
         "sales_method": [
          "Email",
          "Email + Call",
          "Call",
          "Email",
          "Email"
         ],
         "state": [
          "Arizona",
          "Kansas",
          "Wisconsin",
          "Indiana",
          "Illinois"
         ],
         "week": [
          2,
          6,
          5,
          4,
          3
         ],
         "years_as_customer": [
          0,
          1,
          6,
          3,
          0
         ]
        },
        "schema": {
         "fields": [
          {
           "name": "index",
           "type": "integer"
          },
          {
           "name": "week",
           "type": "integer"
          },
          {
           "name": "sales_method",
           "type": "string"
          },
          {
           "name": "customer_id",
           "type": "string"
          },
          {
           "name": "nb_sold",
           "type": "integer"
          },
          {
           "name": "revenue",
           "type": "number"
          },
          {
           "name": "years_as_customer",
           "type": "integer"
          },
          {
           "name": "nb_site_visits",
           "type": "integer"
          },
          {
           "name": "state",
           "type": "string"
          }
         ],
         "pandas_version": "1.4.0",
         "primaryKey": [
          "index"
         ]
        }
       },
       "total_rows": 5,
       "truncation_type": null
      },
      "text/html": [
       "<div>\n",
       "<style scoped>\n",
       "    .dataframe tbody tr th:only-of-type {\n",
       "        vertical-align: middle;\n",
       "    }\n",
       "\n",
       "    .dataframe tbody tr th {\n",
       "        vertical-align: top;\n",
       "    }\n",
       "\n",
       "    .dataframe thead th {\n",
       "        text-align: right;\n",
       "    }\n",
       "</style>\n",
       "<table border=\"1\" class=\"dataframe\">\n",
       "  <thead>\n",
       "    <tr style=\"text-align: right;\">\n",
       "      <th></th>\n",
       "      <th>week</th>\n",
       "      <th>sales_method</th>\n",
       "      <th>customer_id</th>\n",
       "      <th>nb_sold</th>\n",
       "      <th>revenue</th>\n",
       "      <th>years_as_customer</th>\n",
       "      <th>nb_site_visits</th>\n",
       "      <th>state</th>\n",
       "    </tr>\n",
       "  </thead>\n",
       "  <tbody>\n",
       "    <tr>\n",
       "      <th>0</th>\n",
       "      <td>2</td>\n",
       "      <td>Email</td>\n",
       "      <td>2e72d641-95ac-497b-bbf8-4861764a7097</td>\n",
       "      <td>10</td>\n",
       "      <td>NaN</td>\n",
       "      <td>0</td>\n",
       "      <td>24</td>\n",
       "      <td>Arizona</td>\n",
       "    </tr>\n",
       "    <tr>\n",
       "      <th>1</th>\n",
       "      <td>6</td>\n",
       "      <td>Email + Call</td>\n",
       "      <td>3998a98d-70f5-44f7-942e-789bb8ad2fe7</td>\n",
       "      <td>15</td>\n",
       "      <td>225.47</td>\n",
       "      <td>1</td>\n",
       "      <td>28</td>\n",
       "      <td>Kansas</td>\n",
       "    </tr>\n",
       "    <tr>\n",
       "      <th>2</th>\n",
       "      <td>5</td>\n",
       "      <td>Call</td>\n",
       "      <td>d1de9884-8059-4065-b10f-86eef57e4a44</td>\n",
       "      <td>11</td>\n",
       "      <td>52.55</td>\n",
       "      <td>6</td>\n",
       "      <td>26</td>\n",
       "      <td>Wisconsin</td>\n",
       "    </tr>\n",
       "    <tr>\n",
       "      <th>3</th>\n",
       "      <td>4</td>\n",
       "      <td>Email</td>\n",
       "      <td>78aa75a4-ffeb-4817-b1d0-2f030783c5d7</td>\n",
       "      <td>11</td>\n",
       "      <td>NaN</td>\n",
       "      <td>3</td>\n",
       "      <td>25</td>\n",
       "      <td>Indiana</td>\n",
       "    </tr>\n",
       "    <tr>\n",
       "      <th>4</th>\n",
       "      <td>3</td>\n",
       "      <td>Email</td>\n",
       "      <td>10e6d446-10a5-42e5-8210-1b5438f70922</td>\n",
       "      <td>9</td>\n",
       "      <td>90.49</td>\n",
       "      <td>0</td>\n",
       "      <td>28</td>\n",
       "      <td>Illinois</td>\n",
       "    </tr>\n",
       "  </tbody>\n",
       "</table>\n",
       "</div>"
      ],
      "text/plain": [
       "   week  sales_method  ... nb_site_visits      state\n",
       "0     2         Email  ...             24    Arizona\n",
       "1     6  Email + Call  ...             28     Kansas\n",
       "2     5          Call  ...             26  Wisconsin\n",
       "3     4         Email  ...             25    Indiana\n",
       "4     3         Email  ...             28   Illinois\n",
       "\n",
       "[5 rows x 8 columns]"
      ]
     },
     "execution_count": 1,
     "metadata": {},
     "output_type": "execute_result"
    }
   ],
   "source": [
    "# Importing required libraries and getting overview to start cleaning\n",
    "\n",
    "import pandas as pd\n",
    "import matplotlib.pyplot as plt\n",
    "import seaborn as sns\n",
    "from datetime import datetime\n",
    "\n",
    "# Loading the dataset and view the first few rows\n",
    "df = pd.read_csv('product_sales.csv')\n",
    "df.head()"
   ]
  },
  {
   "cell_type": "code",
   "execution_count": 2,
   "id": "b0ada5a7-305a-4862-a1ef-c3167bd20da2",
   "metadata": {
    "executionCancelledAt": null,
    "executionTime": 48,
    "lastExecutedAt": 1706615973916,
    "lastScheduledRunId": null,
    "lastSuccessfullyExecutedCode": "# Displaying a total of rows and cols\ndf.shape"
   },
   "outputs": [
    {
     "data": {
      "text/plain": [
       "(15000, 8)"
      ]
     },
     "execution_count": 2,
     "metadata": {},
     "output_type": "execute_result"
    }
   ],
   "source": [
    "# Displaying a total of rows and cols\n",
    "df.shape"
   ]
  },
  {
   "cell_type": "code",
   "execution_count": 3,
   "id": "5a58b29a-2623-4248-b76c-45e875528ce2",
   "metadata": {
    "executionCancelledAt": null,
    "executionTime": 51,
    "lastExecutedAt": 1706615973967,
    "lastScheduledRunId": null,
    "lastSuccessfullyExecutedCode": "# Displaying information about the DataFrame\ndf.info()",
    "outputsMetadata": {
     "0": {
      "height": 317,
      "type": "stream"
     }
    }
   },
   "outputs": [
    {
     "name": "stdout",
     "output_type": "stream",
     "text": [
      "<class 'pandas.core.frame.DataFrame'>\n",
      "RangeIndex: 15000 entries, 0 to 14999\n",
      "Data columns (total 8 columns):\n",
      " #   Column             Non-Null Count  Dtype  \n",
      "---  ------             --------------  -----  \n",
      " 0   week               15000 non-null  int64  \n",
      " 1   sales_method       15000 non-null  object \n",
      " 2   customer_id        15000 non-null  object \n",
      " 3   nb_sold            15000 non-null  int64  \n",
      " 4   revenue            13926 non-null  float64\n",
      " 5   years_as_customer  15000 non-null  int64  \n",
      " 6   nb_site_visits     15000 non-null  int64  \n",
      " 7   state              15000 non-null  object \n",
      "dtypes: float64(1), int64(4), object(3)\n",
      "memory usage: 937.6+ KB\n"
     ]
    }
   ],
   "source": [
    "# Displaying information about the DataFrame\n",
    "df.info()"
   ]
  },
  {
   "cell_type": "code",
   "execution_count": 4,
   "id": "44c6a029-f9fd-4f81-b407-efbc40d20076",
   "metadata": {
    "executionCancelledAt": null,
    "executionTime": 52,
    "lastExecutedAt": 1706615974019,
    "lastScheduledRunId": null,
    "lastSuccessfullyExecutedCode": "# Checking for duplicates\ndf.duplicated().sum()"
   },
   "outputs": [
    {
     "data": {
      "text/plain": [
       "0"
      ]
     },
     "execution_count": 4,
     "metadata": {},
     "output_type": "execute_result"
    }
   ],
   "source": [
    "# Checking for duplicates\n",
    "df.duplicated().sum()"
   ]
  },
  {
   "cell_type": "code",
   "execution_count": 5,
   "id": "0efabf69-b662-46c2-b9a5-79c894bc8aef",
   "metadata": {
    "executionCancelledAt": null,
    "executionTime": 52,
    "lastExecutedAt": 1706615974071,
    "lastScheduledRunId": null,
    "lastSuccessfullyExecutedCode": "# Generating a summary of unique values, data types, and missing values for each column\ndata = []\nfor col in df.columns:\n    unique_values = df[col].unique()\n    num_unique = len(unique_values)\n    dtype = df[col].dtype\n    missing = df[col].isna().sum()\n    if num_unique > 50:\n        data.append((col, num_unique, \"\", dtype, missing))\n    else:\n        unique_values_str = \", \".join(map(str, unique_values))\n        data.append((col, num_unique, unique_values_str, dtype, missing))\n\nsummary = pd.DataFrame(data, columns=[\"Column\", \"# of Uniques\", \"Unique Values (<10)\", \"Dtype\", 'Missing'])\nsummary.sort_values(by='# of Uniques').reset_index(drop=True)"
   },
   "outputs": [
    {
     "data": {
      "text/html": [
       "<div>\n",
       "<style scoped>\n",
       "    .dataframe tbody tr th:only-of-type {\n",
       "        vertical-align: middle;\n",
       "    }\n",
       "\n",
       "    .dataframe tbody tr th {\n",
       "        vertical-align: top;\n",
       "    }\n",
       "\n",
       "    .dataframe thead th {\n",
       "        text-align: right;\n",
       "    }\n",
       "</style>\n",
       "<table border=\"1\" class=\"dataframe\">\n",
       "  <thead>\n",
       "    <tr style=\"text-align: right;\">\n",
       "      <th></th>\n",
       "      <th>Column</th>\n",
       "      <th># of Uniques</th>\n",
       "      <th>Unique Values (&lt;10)</th>\n",
       "      <th>Dtype</th>\n",
       "      <th>Missing</th>\n",
       "    </tr>\n",
       "  </thead>\n",
       "  <tbody>\n",
       "    <tr>\n",
       "      <th>0</th>\n",
       "      <td>sales_method</td>\n",
       "      <td>5</td>\n",
       "      <td>Email, Email + Call, Call, em + call, email</td>\n",
       "      <td>object</td>\n",
       "      <td>0</td>\n",
       "    </tr>\n",
       "    <tr>\n",
       "      <th>1</th>\n",
       "      <td>week</td>\n",
       "      <td>6</td>\n",
       "      <td>2, 6, 5, 4, 3, 1</td>\n",
       "      <td>int64</td>\n",
       "      <td>0</td>\n",
       "    </tr>\n",
       "    <tr>\n",
       "      <th>2</th>\n",
       "      <td>nb_sold</td>\n",
       "      <td>10</td>\n",
       "      <td>10, 15, 11, 9, 13, 8, 12, 7, 14, 16</td>\n",
       "      <td>int64</td>\n",
       "      <td>0</td>\n",
       "    </tr>\n",
       "    <tr>\n",
       "      <th>3</th>\n",
       "      <td>nb_site_visits</td>\n",
       "      <td>27</td>\n",
       "      <td>24, 28, 26, 25, 22, 31, 23, 30, 21, 27, 32, 29...</td>\n",
       "      <td>int64</td>\n",
       "      <td>0</td>\n",
       "    </tr>\n",
       "    <tr>\n",
       "      <th>4</th>\n",
       "      <td>years_as_customer</td>\n",
       "      <td>42</td>\n",
       "      <td>0, 1, 6, 3, 10, 9, 7, 4, 2, 20, 8, 5, 17, 36, ...</td>\n",
       "      <td>int64</td>\n",
       "      <td>0</td>\n",
       "    </tr>\n",
       "    <tr>\n",
       "      <th>5</th>\n",
       "      <td>state</td>\n",
       "      <td>50</td>\n",
       "      <td>Arizona, Kansas, Wisconsin, Indiana, Illinois,...</td>\n",
       "      <td>object</td>\n",
       "      <td>0</td>\n",
       "    </tr>\n",
       "    <tr>\n",
       "      <th>6</th>\n",
       "      <td>revenue</td>\n",
       "      <td>6744</td>\n",
       "      <td></td>\n",
       "      <td>float64</td>\n",
       "      <td>1074</td>\n",
       "    </tr>\n",
       "    <tr>\n",
       "      <th>7</th>\n",
       "      <td>customer_id</td>\n",
       "      <td>15000</td>\n",
       "      <td></td>\n",
       "      <td>object</td>\n",
       "      <td>0</td>\n",
       "    </tr>\n",
       "  </tbody>\n",
       "</table>\n",
       "</div>"
      ],
      "text/plain": [
       "              Column  # of Uniques  ...    Dtype Missing\n",
       "0       sales_method             5  ...   object       0\n",
       "1               week             6  ...    int64       0\n",
       "2            nb_sold            10  ...    int64       0\n",
       "3     nb_site_visits            27  ...    int64       0\n",
       "4  years_as_customer            42  ...    int64       0\n",
       "5              state            50  ...   object       0\n",
       "6            revenue          6744  ...  float64    1074\n",
       "7        customer_id         15000  ...   object       0\n",
       "\n",
       "[8 rows x 5 columns]"
      ]
     },
     "execution_count": 5,
     "metadata": {},
     "output_type": "execute_result"
    }
   ],
   "source": [
    "# Generating a summary of unique values, data types, and missing values for each column\n",
    "data = []\n",
    "for col in df.columns:\n",
    "    unique_values = df[col].unique()\n",
    "    num_unique = len(unique_values)\n",
    "    dtype = df[col].dtype\n",
    "    missing = df[col].isna().sum()\n",
    "    if num_unique > 50:\n",
    "        data.append((col, num_unique, \"\", dtype, missing))\n",
    "    else:\n",
    "        unique_values_str = \", \".join(map(str, unique_values))\n",
    "        data.append((col, num_unique, unique_values_str, dtype, missing))\n",
    "\n",
    "summary = pd.DataFrame(data, columns=[\"Column\", \"# of Uniques\", \"Unique Values (<10)\", \"Dtype\", 'Missing'])\n",
    "summary.sort_values(by='# of Uniques').reset_index(drop=True)"
   ]
  },
  {
   "cell_type": "code",
   "execution_count": 6,
   "id": "83689e38-bf8c-41fe-ba3c-ee41352453a1",
   "metadata": {
    "executionCancelledAt": null,
    "executionTime": 51,
    "lastExecutedAt": 1706615974122,
    "lastScheduledRunId": null,
    "lastSuccessfullyExecutedCode": "# Cleaning `sales_method` variable\n# -----------------------------------\n# Checking total value\ndf['sales_method'].value_counts()"
   },
   "outputs": [
    {
     "data": {
      "text/plain": [
       "Email           7456\n",
       "Call            4962\n",
       "Email + Call    2549\n",
       "em + call         23\n",
       "email             10\n",
       "Name: sales_method, dtype: int64"
      ]
     },
     "execution_count": 6,
     "metadata": {},
     "output_type": "execute_result"
    }
   ],
   "source": [
    "# Cleaning `sales_method` variable\n",
    "# -----------------------------------\n",
    "# Checking total value\n",
    "df['sales_method'].value_counts()"
   ]
  },
  {
   "cell_type": "code",
   "execution_count": 7,
   "id": "51cde3bb-8c04-4f7e-b9af-bf717e0d55b1",
   "metadata": {
    "executionCancelledAt": null,
    "executionTime": 67,
    "lastExecutedAt": 1706615974189,
    "lastScheduledRunId": null,
    "lastSuccessfullyExecutedCode": "# Replacing inconsistent values in the \"sales_method\" column\ndf['sales_method'] = df['sales_method'].replace(r'\\w\\w\\s\\+\\scall', 'Email + Call', regex=True)\ndf['sales_method'] = df['sales_method'].replace('email', 'Email')"
   },
   "outputs": [],
   "source": [
    "# Replacing inconsistent values in the \"sales_method\" column\n",
    "df['sales_method'] = df['sales_method'].replace(r'\\w\\w\\s\\+\\scall', 'Email + Call', regex=True)\n",
    "df['sales_method'] = df['sales_method'].replace('email', 'Email')"
   ]
  },
  {
   "cell_type": "code",
   "execution_count": 8,
   "id": "0f9f682f-24b7-4e60-a3bf-abdaa4226f32",
   "metadata": {
    "executionCancelledAt": null,
    "executionTime": 52,
    "lastExecutedAt": 1706615974243,
    "lastScheduledRunId": null,
    "lastSuccessfullyExecutedCode": "# Confirming only 3 unique values\ndf['sales_method'].unique()"
   },
   "outputs": [
    {
     "data": {
      "text/plain": [
       "array(['Email', 'Email + Call', 'Call'], dtype=object)"
      ]
     },
     "execution_count": 8,
     "metadata": {},
     "output_type": "execute_result"
    }
   ],
   "source": [
    "# Confirming only 3 unique values\n",
    "df['sales_method'].unique()"
   ]
  },
  {
   "cell_type": "code",
   "execution_count": 9,
   "id": "7d95b3fd-772a-4e86-9073-444386a082e8",
   "metadata": {
    "executionCancelledAt": null,
    "executionTime": 56,
    "lastExecutedAt": 1706615974299,
    "lastScheduledRunId": null,
    "lastSuccessfullyExecutedCode": "# Cleaning `revenue` variable\n# -----------------------------------\n# Calculating the percentage of missing values for `revenue`\nmissing_percentage = df['revenue'].isnull().sum() / len(df) * 100\nmissing_percentage"
   },
   "outputs": [
    {
     "data": {
      "text/plain": [
       "7.16"
      ]
     },
     "execution_count": 9,
     "metadata": {},
     "output_type": "execute_result"
    }
   ],
   "source": [
    "# Cleaning `revenue` variable\n",
    "# -----------------------------------\n",
    "# Calculating the percentage of missing values for `revenue`\n",
    "missing_percentage = df['revenue'].isnull().sum() / len(df) * 100\n",
    "missing_percentage"
   ]
  },
  {
   "cell_type": "code",
   "execution_count": 10,
   "id": "757f3715-5fe6-4759-a1e3-fe7a71662a28",
   "metadata": {
    "executionCancelledAt": null,
    "executionTime": 335,
    "lastExecutedAt": 1706615974634,
    "lastScheduledRunId": null,
    "lastSuccessfullyExecutedCode": "# Checking the distribution of the `revenue`\nsns.histplot(data=df, x='revenue', bins=25)\nplt.title(\"Figure 1: Histogram of Revenue\")\nplt.axvline(df['revenue'].median(), color='brown', linestyle='--', label='Median')\nplt.axvline(df['revenue'].mean(), color='green', linestyle='--', label='Mean')\nplt.legend();"
   },
   "outputs": [
    {
     "data": {
      "image/png": "[encoded data removed]",
      "text/plain": [
       "<Figure size 640x480 with 1 Axes>"
      ]
     },
     "metadata": {},
     "output_type": "display_data"
    }
   ],
   "source": [
    "# Checking the distribution of the `revenue`\n",
    "sns.histplot(data=df, x='revenue', bins=25)\n",
    "plt.title(\"Figure 1: Histogram of Revenue\")\n",
    "plt.axvline(df['revenue'].median(), color='brown', linestyle='--', label='Median')\n",
    "plt.axvline(df['revenue'].mean(), color='green', linestyle='--', label='Mean')\n",
    "plt.legend();"
   ]
  },
  {
   "cell_type": "code",
   "execution_count": 11,
   "id": "143e11bb-8b9b-4538-a7c2-30b61c211ccb",
   "metadata": {
    "executionCancelledAt": null,
    "executionTime": 48,
    "lastExecutedAt": 1706615974682,
    "lastScheduledRunId": null,
    "lastSuccessfullyExecutedCode": "# Imputing missing values with median\nrevenue_median = df['revenue'].median()\ndf['revenue'] = df['revenue'].fillna(revenue_median)"
   },
   "outputs": [],
   "source": [
    "# Imputing missing values with median\n",
    "revenue_median = df['revenue'].median()\n",
    "df['revenue'] = df['revenue'].fillna(revenue_median)"
   ]
  },
  {
   "cell_type": "code",
   "execution_count": 12,
   "id": "354042c8-635f-467e-93ca-1307b31a45dc",
   "metadata": {
    "executionCancelledAt": null,
    "executionTime": 56,
    "lastExecutedAt": 1706615974739,
    "lastScheduledRunId": null,
    "lastSuccessfullyExecutedCode": "# Confirming no missing values\ndf['revenue'].isna().sum()"
   },
   "outputs": [
    {
     "data": {
      "text/plain": [
       "0"
      ]
     },
     "execution_count": 12,
     "metadata": {},
     "output_type": "execute_result"
    }
   ],
   "source": [
    "# Confirming no missing values\n",
    "df['revenue'].isna().sum()"
   ]
  },
  {
   "cell_type": "code",
   "execution_count": 13,
   "id": "499b3302-3336-4325-b3df-2f0815686aa4",
   "metadata": {
    "executionCancelledAt": null,
    "executionTime": 48,
    "lastExecutedAt": 1706615974787,
    "lastScheduledRunId": null,
    "lastSuccessfullyExecutedCode": "# Cleaning `years_as_customers` variable\n# -----------------------------------\n# Calculating the threshold based on the current year and the founding year (1984)\nyears_threshold = datetime.now().year - 1984\n\n# Filtering the df to find rows with 'years_as_customer' greater than the threshold\ndf[df['years_as_customer'] > years_threshold]",
    "outputsMetadata": {
     "0": {
      "height": 123,
      "type": "dataFrame"
     }
    }
   },
   "outputs": [
    {
     "data": {
      "application/com.datacamp.data-table.v2+json": {
       "table": {
        "data": {
         "customer_id": [
          "18919515-a618-430c-9a05-2c7d8fea96af",
          "2ea97d34-571d-4e1b-95be-fea1c404649f"
         ],
         "index": [
          13741,
          13800
         ],
         "nb_site_visits": [
          24,
          27
         ],
         "nb_sold": [
          10,
          10
         ],
         "revenue": [
          97.22,
          50.47
         ],
         "sales_method": [
          "Email",
          "Call"
         ],
         "state": [
          "California",
          "California"
         ],
         "week": [
          2,
          4
         ],
         "years_as_customer": [
          63,
          47
         ]
        },
        "schema": {
         "fields": [
          {
           "name": "index",
           "type": "integer"
          },
          {
           "name": "week",
           "type": "integer"
          },
          {
           "name": "sales_method",
           "type": "string"
          },
          {
           "name": "customer_id",
           "type": "string"
          },
          {
           "name": "nb_sold",
           "type": "integer"
          },
          {
           "name": "revenue",
           "type": "number"
          },
          {
           "name": "years_as_customer",
           "type": "integer"
          },
          {
           "name": "nb_site_visits",
           "type": "integer"
          },
          {
           "name": "state",
           "type": "string"
          }
         ],
         "pandas_version": "1.4.0",
         "primaryKey": [
          "index"
         ]
        }
       },
       "total_rows": 2,
       "truncation_type": null
      },
      "text/html": [
       "<div>\n",
       "<style scoped>\n",
       "    .dataframe tbody tr th:only-of-type {\n",
       "        vertical-align: middle;\n",
       "    }\n",
       "\n",
       "    .dataframe tbody tr th {\n",
       "        vertical-align: top;\n",
       "    }\n",
       "\n",
       "    .dataframe thead th {\n",
       "        text-align: right;\n",
       "    }\n",
       "</style>\n",
       "<table border=\"1\" class=\"dataframe\">\n",
       "  <thead>\n",
       "    <tr style=\"text-align: right;\">\n",
       "      <th></th>\n",
       "      <th>week</th>\n",
       "      <th>sales_method</th>\n",
       "      <th>customer_id</th>\n",
       "      <th>nb_sold</th>\n",
       "      <th>revenue</th>\n",
       "      <th>years_as_customer</th>\n",
       "      <th>nb_site_visits</th>\n",
       "      <th>state</th>\n",
       "    </tr>\n",
       "  </thead>\n",
       "  <tbody>\n",
       "    <tr>\n",
       "      <th>13741</th>\n",
       "      <td>2</td>\n",
       "      <td>Email</td>\n",
       "      <td>18919515-a618-430c-9a05-2c7d8fea96af</td>\n",
       "      <td>10</td>\n",
       "      <td>97.22</td>\n",
       "      <td>63</td>\n",
       "      <td>24</td>\n",
       "      <td>California</td>\n",
       "    </tr>\n",
       "    <tr>\n",
       "      <th>13800</th>\n",
       "      <td>4</td>\n",
       "      <td>Call</td>\n",
       "      <td>2ea97d34-571d-4e1b-95be-fea1c404649f</td>\n",
       "      <td>10</td>\n",
       "      <td>50.47</td>\n",
       "      <td>47</td>\n",
       "      <td>27</td>\n",
       "      <td>California</td>\n",
       "    </tr>\n",
       "  </tbody>\n",
       "</table>\n",
       "</div>"
      ],
      "text/plain": [
       "       week sales_method  ... nb_site_visits       state\n",
       "13741     2        Email  ...             24  California\n",
       "13800     4         Call  ...             27  California\n",
       "\n",
       "[2 rows x 8 columns]"
      ]
     },
     "execution_count": 13,
     "metadata": {},
     "output_type": "execute_result"
    }
   ],
   "source": [
    "# Cleaning `years_as_customers` variable\n",
    "# -----------------------------------\n",
    "# Calculating the threshold based on the current year and the founding year (1984)\n",
    "years_threshold = datetime.now().year - 1984\n",
    "\n",
    "# Filtering the df to find rows with 'years_as_customer' greater than the threshold\n",
    "df[df['years_as_customer'] > years_threshold]"
   ]
  },
  {
   "cell_type": "code",
   "execution_count": 14,
   "id": "5f656d51-8b3f-42a8-9241-5ed815a44abf",
   "metadata": {
    "executionCancelledAt": null,
    "executionTime": 50,
    "lastExecutedAt": 1706615974837,
    "lastScheduledRunId": null,
    "lastSuccessfullyExecutedCode": "# Removing anomalies from df\ndf = df[~(df['years_as_customer'] > years_threshold)]"
   },
   "outputs": [],
   "source": [
    "# Removing anomalies from df\n",
    "df = df[~(df['years_as_customer'] > years_threshold)]"
   ]
  },
  {
   "cell_type": "code",
   "execution_count": 15,
   "id": "69b67209-a1fc-49e2-b916-80b9f9d63a5a",
   "metadata": {
    "executionCancelledAt": null,
    "executionTime": 53,
    "lastExecutedAt": 1706615974891,
    "lastScheduledRunId": null,
    "lastSuccessfullyExecutedCode": "# Rechecking info again\ndf.info()",
    "outputsMetadata": {
     "0": {
      "height": 317,
      "type": "stream"
     }
    }
   },
   "outputs": [
    {
     "name": "stdout",
     "output_type": "stream",
     "text": [
      "<class 'pandas.core.frame.DataFrame'>\n",
      "Int64Index: 14998 entries, 0 to 14999\n",
      "Data columns (total 8 columns):\n",
      " #   Column             Non-Null Count  Dtype  \n",
      "---  ------             --------------  -----  \n",
      " 0   week               14998 non-null  int64  \n",
      " 1   sales_method       14998 non-null  object \n",
      " 2   customer_id        14998 non-null  object \n",
      " 3   nb_sold            14998 non-null  int64  \n",
      " 4   revenue            14998 non-null  float64\n",
      " 5   years_as_customer  14998 non-null  int64  \n",
      " 6   nb_site_visits     14998 non-null  int64  \n",
      " 7   state              14998 non-null  object \n",
      "dtypes: float64(1), int64(4), object(3)\n",
      "memory usage: 1.0+ MB\n"
     ]
    }
   ],
   "source": [
    "# Rechecking info again\n",
    "df.info()"
   ]
  },
  {
   "cell_type": "markdown",
   "id": "5d043f03-1126-49ae-92bd-8c7a03446b38",
   "metadata": {},
   "source": [
    "## Summary of Data Validation:\n",
    "The dataset initially comprised 15,000 rows and 8 columns, containing a mix of three categorical and five numerical features before undergoing the validation and cleaning process. The following steps were taken to ensure data accuracy:\n",
    "\n",
    "- Week (**week**): This integer variable, representing weeks since the product launch, exhibits 6 unique values ranging from 1 to 6. No cleaning was required for this column.\n",
    "\n",
    "- Sales Method (**sales_method**): This categorical variable represents different sales approaches. Ideally, it should have had 3 unique values, but there were 5 due to inconsistencies, with \"em + call\" and \"email\" appearing as typos or variations of \"Email\" and \"Email + Call\". These inconsistencies were rectified for data integrity.\n",
    "\n",
    "- Customer ID (**customer_id**): Serving as a unique identifier for customers, there were 15,000 unique customer IDs in this categorical variable, used to uniquely identify customers. No cleaning was necessary for this column.\n",
    "\n",
    "- Number of Sold Items (**nb_sold**): An integer variable, which exhibited 10 unique values, indicating the number of new products sold. It is categorized as a discrete numerical variable, and no cleaning was needed for this column.\n",
    "\n",
    "- Revenue (**revenue**): This continuous numerical variable, represented as a float, was the only variable in the dataset with missing data. Specifically, there were 1074 missing values, accounting for approximately 7.16% of the data within the revenue variable. In response, the missing values were imputed to maximize the available data. In this case, median imputation was chosen due to the right-skewed distribution of the revenue variable. The imputation process was successfully completed.\n",
    "\n",
    "- Years as Customer (**years_as_customer**): This integer variable initially exhibited 42 unique values, reflecting the number of years as a customer. However, it should ideally have contained only 40 unique values (ranging from 0 to 39), aligning with the age of the company, which is 39 years (as of 2023, subtracting the founding year of 1984). Anomalies in this variable were identified in two rows and subsequently removed to ensure data accuracy.\n",
    "\n",
    "- Number of Site Visits (**nb_site_visits**): This integer variable presented 27 unique values, representing the number of site visits. It was another discrete numerical variable, and no cleaning was required for this column.\n",
    "\n",
    "- State (**state**): A categorical variable with 50 unique values, indicating different states in the US. It's categorized as a categorical variable with a relatively large number of categories. No cleaning was necessary for this column.\n",
    "\n",
    "Following the data validation and cleaning steps, the dataset was refined, resulting in a final dataset with 14,998 records and 8 columns, with no missing values, anomalies, or duplicates. This refined dataset ensures data accuracy and integrity."
   ]
  },
  {
   "cell_type": "markdown",
   "id": "8e213f02-563e-491e-984b-9ca58f976568",
   "metadata": {},
   "source": [
    "# Task 2. Exploratory Analysis\n",
    "## 1. How many customers were there for each approach?"
   ]
  },
  {
   "cell_type": "code",
   "execution_count": 16,
   "id": "1effcb3e-4650-4fef-b878-dc485576e47b",
   "metadata": {
    "executionCancelledAt": null,
    "executionTime": 52,
    "lastExecutedAt": 1706615974943,
    "lastScheduledRunId": null,
    "lastSuccessfullyExecutedCode": "df['sales_method'].value_counts(normalize=True).round(2)"
   },
   "outputs": [
    {
     "data": {
      "text/plain": [
       "Email           0.50\n",
       "Call            0.33\n",
       "Email + Call    0.17\n",
       "Name: sales_method, dtype: float64"
      ]
     },
     "execution_count": 16,
     "metadata": {},
     "output_type": "execute_result"
    }
   ],
   "source": [
    "df['sales_method'].value_counts(normalize=True).round(2)"
   ]
  },
  {
   "cell_type": "code",
   "execution_count": 17,
   "id": "f5b1be62-a0d7-4eb1-9419-13f9a48a321c",
   "metadata": {
    "executionCancelledAt": null,
    "executionTime": 222,
    "lastExecutedAt": 1706615975165,
    "lastScheduledRunId": null,
    "lastSuccessfullyExecutedCode": "# Ploting each sales approach with number of customers\nsns.countplot(data=df, x='sales_method',  order=df['sales_method'].value_counts().index, hue='sales_method', legend=False)\nplt.title(f\"Figure 2: Different Approach with Number of Customers\")\nplt.ylabel(\"Number of customers\")\nfor i, v in enumerate(df['sales_method'].value_counts().values):\n    plt.text(i, v, str(v), ha='center', va='bottom', color='black', fontsize=9)"
   },
   "outputs": [
    {
     "data": {
      "image/png": "[encoded data removed]",
      "text/plain": [
       "<Figure size 640x480 with 1 Axes>"
      ]
     },
     "metadata": {},
     "output_type": "display_data"
    }
   ],
   "source": [
    "# Ploting each sales approach with number of customers\n",
    "sns.countplot(data=df, x='sales_method',  order=df['sales_method'].value_counts().index, hue='sales_method', legend=False)\n",
    "plt.title(f\"Figure 2: Different Approach with Number of Customers\")\n",
    "plt.ylabel(\"Number of customers\")\n",
    "for i, v in enumerate(df['sales_method'].value_counts().values):\n",
    "    plt.text(i, v, str(v), ha='center', va='bottom', color='black', fontsize=9)"
   ]
  },
  {
   "cell_type": "markdown",
   "id": "4a634508-0f2e-48c9-9b7c-120e88534021",
   "metadata": {},
   "source": [
    "Upon examining the data with value_counts and referencing Figure 2, the distribution of customers approached via different methods is as follows:\n",
    "\n",
    "- **Email**: The \"Email\" approach was employed with 7465 customers, constituting approximately 50% of the total approaches.\n",
    "\n",
    "- **Call**: The \"Call\" approach was utilized with 4961 customers, accounting for roughly 33% of the approaches.\n",
    "\n",
    "- **Email + Call**: The \"Email + Call\" method had the lowest number of customers approached, totaling 2572, which corresponds to approximately 17% of the total approaches."
   ]
  },
  {
   "cell_type": "markdown",
   "id": "3e3041a8-e8d1-4a39-9c91-3cec317e2aff",
   "metadata": {},
   "source": [
    "## 2. What does the spread of the revenue look like overall? And for each method?"
   ]
  },
  {
   "cell_type": "code",
   "execution_count": 18,
   "id": "476afb50-ed55-49ae-a5c9-fa8854ac18bd",
   "metadata": {
    "executionCancelledAt": null,
    "executionTime": 50,
    "lastExecutedAt": 1706615975215,
    "lastScheduledRunId": null,
    "lastSuccessfullyExecutedCode": "df[['revenue']].describe(percentiles=[.05, .25, .5, .75, .95]).round(2).T",
    "outputsMetadata": {
     "0": {
      "height": 98,
      "type": "dataFrame"
     }
    }
   },
   "outputs": [
    {
     "data": {
      "application/com.datacamp.data-table.v2+json": {
       "table": {
        "data": {
         "25%": [
          53.04
         ],
         "5%": [
          39.47
         ],
         "50%": [
          89.5
         ],
         "75%": [
          106.07
         ],
         "95%": [
          188.27
         ],
         "count": [
          14998
         ],
         "index": [
          "revenue"
         ],
         "max": [
          238.32
         ],
         "mean": [
          93.62
         ],
         "min": [
          32.54
         ],
         "std": [
          45.72
         ]
        },
        "schema": {
         "fields": [
          {
           "name": "index",
           "type": "string"
          },
          {
           "name": "count",
           "type": "number"
          },
          {
           "name": "mean",
           "type": "number"
          },
          {
           "name": "std",
           "type": "number"
          },
          {
           "name": "min",
           "type": "number"
          },
          {
           "name": "5%",
           "type": "number"
          },
          {
           "name": "25%",
           "type": "number"
          },
          {
           "name": "50%",
           "type": "number"
          },
          {
           "name": "75%",
           "type": "number"
          },
          {
           "name": "95%",
           "type": "number"
          },
          {
           "name": "max",
           "type": "number"
          }
         ],
         "pandas_version": "1.4.0",
         "primaryKey": [
          "index"
         ]
        }
       },
       "total_rows": 1,
       "truncation_type": null
      },
      "text/html": [
       "<div>\n",
       "<style scoped>\n",
       "    .dataframe tbody tr th:only-of-type {\n",
       "        vertical-align: middle;\n",
       "    }\n",
       "\n",
       "    .dataframe tbody tr th {\n",
       "        vertical-align: top;\n",
       "    }\n",
       "\n",
       "    .dataframe thead th {\n",
       "        text-align: right;\n",
       "    }\n",
       "</style>\n",
       "<table border=\"1\" class=\"dataframe\">\n",
       "  <thead>\n",
       "    <tr style=\"text-align: right;\">\n",
       "      <th></th>\n",
       "      <th>count</th>\n",
       "      <th>mean</th>\n",
       "      <th>std</th>\n",
       "      <th>min</th>\n",
       "      <th>5%</th>\n",
       "      <th>25%</th>\n",
       "      <th>50%</th>\n",
       "      <th>75%</th>\n",
       "      <th>95%</th>\n",
       "      <th>max</th>\n",
       "    </tr>\n",
       "  </thead>\n",
       "  <tbody>\n",
       "    <tr>\n",
       "      <th>revenue</th>\n",
       "      <td>14998.0</td>\n",
       "      <td>93.62</td>\n",
       "      <td>45.72</td>\n",
       "      <td>32.54</td>\n",
       "      <td>39.47</td>\n",
       "      <td>53.04</td>\n",
       "      <td>89.5</td>\n",
       "      <td>106.07</td>\n",
       "      <td>188.27</td>\n",
       "      <td>238.32</td>\n",
       "    </tr>\n",
       "  </tbody>\n",
       "</table>\n",
       "</div>"
      ],
      "text/plain": [
       "           count   mean    std    min  ...   50%     75%     95%     max\n",
       "revenue  14998.0  93.62  45.72  32.54  ...  89.5  106.07  188.27  238.32\n",
       "\n",
       "[1 rows x 10 columns]"
      ]
     },
     "execution_count": 18,
     "metadata": {},
     "output_type": "execute_result"
    }
   ],
   "source": [
    "df[['revenue']].describe(percentiles=[.05, .25, .5, .75, .95]).round(2).T"
   ]
  },
  {
   "cell_type": "code",
   "execution_count": 19,
   "id": "70be0b08-48d1-4976-87a9-3a4210159f93",
   "metadata": {
    "executionCancelledAt": null,
    "executionTime": 121,
    "lastExecutedAt": 1706615975336,
    "lastScheduledRunId": null,
    "lastSuccessfullyExecutedCode": "# Visualizing revenue\nsns.boxplot(data=df, x='revenue')\nplt.title(\"Figure 3: Box Plot of Revenue\");"
   },
   "outputs": [
    {
     "data": {
      "image/png": "[encoded data removed]",
      "text/plain": [
       "<Figure size 640x480 with 1 Axes>"
      ]
     },
     "metadata": {},
     "output_type": "display_data"
    }
   ],
   "source": [
    "# Visualizing revenue\n",
    "sns.boxplot(data=df, x='revenue')\n",
    "plt.title(\"Figure 3: Box Plot of Revenue\");"
   ]
  },
  {
   "cell_type": "markdown",
   "id": "92065a2d-80a3-43f8-98ec-eb39e60e06a0",
   "metadata": {},
   "source": [
    "In exploration of revenue, supported by the descriptive table, Figure 1 and Figure 3, several key findings emerge:\n",
    "\n",
    "- _Skewed Distribution_: The revenue distribution exhibits a right-skewed pattern, signifying that the majority of revenue values are concentrated towards the lower end of the scale, with a significant proportion of revenue falls under the 100 USD.\n",
    "\n",
    "- _Revenue Range_: The recorded revenue spans from a minimum of 32.54 USD to a maximum of 238.32 USD, illustrating a wide range of transaction values.\n",
    "\n",
    "- _Measures of Central Tendency_: The median revenue, at approximately 89.5 USD, is marginally lower than the mean revenue, which stands at 93.62 USD. This supports for the skewness above.\n",
    "\n",
    "- _Spread (Standard Deviation)_: The standard deviation (std) of 45.75 USD quantifies the extent of dispersion in the revenue data. A high standard deviation implies a widely spread of revenue values.\n",
    "\n",
    "- _Outliers_: The boxplot indicates that values exceeding 160 USD are considered outliers. Notably, two distinct groups of outliers can be identified, one around the 180 USD and another at the higher end of the revenue scale.\n",
    "\n",
    "By incorporating these insights, the revenue distribution in association with the various approaches used can be better understood."
   ]
  },
  {
   "cell_type": "code",
   "execution_count": 20,
   "id": "c6f42c17-c9e0-466a-956f-9164f09b5291",
   "metadata": {
    "executionCancelledAt": null,
    "executionTime": 65,
    "lastExecutedAt": 1706615975401,
    "lastScheduledRunId": null,
    "lastSuccessfullyExecutedCode": "# Grouping revenue by 'sales_method' and calculate the sum and percentage of revenue\nresult = df.groupby('sales_method')['revenue'].agg(['sum', lambda x: x.sum() / df['revenue'].sum() * 100, 'min', 'mean','max'])\n\n# Renaming the columns of revenue table\nresult.columns = ['total', 'percentage', 'min', 'avg', 'max']\n\nresult.round(2).sort_values(by='total', ascending=False)",
    "outputsMetadata": {
     "0": {
      "height": 148,
      "type": "dataFrame"
     }
    }
   },
   "outputs": [
    {
     "data": {
      "application/com.datacamp.data-table.v2+json": {
       "table": {
        "data": {
         "avg": [
          96.57,
          170.88,
          49.13
         ],
         "max": [
          148.97,
          238.32,
          89.5
         ],
         "min": [
          78.83,
          89.5,
          32.54
         ],
         "percentage": [
          51.34,
          31.3,
          17.36
         ],
         "sales_method": [
          "Email",
          "Email + Call",
          "Call"
         ],
         "total": [
          720908.61,
          439492.19,
          243712.52
         ]
        },
        "schema": {
         "fields": [
          {
           "name": "sales_method",
           "type": "string"
          },
          {
           "name": "total",
           "type": "number"
          },
          {
           "name": "percentage",
           "type": "number"
          },
          {
           "name": "min",
           "type": "number"
          },
          {
           "name": "avg",
           "type": "number"
          },
          {
           "name": "max",
           "type": "number"
          }
         ],
         "pandas_version": "1.4.0",
         "primaryKey": [
          "sales_method"
         ]
        }
       },
       "total_rows": 3,
       "truncation_type": null
      },
      "text/html": [
       "<div>\n",
       "<style scoped>\n",
       "    .dataframe tbody tr th:only-of-type {\n",
       "        vertical-align: middle;\n",
       "    }\n",
       "\n",
       "    .dataframe tbody tr th {\n",
       "        vertical-align: top;\n",
       "    }\n",
       "\n",
       "    .dataframe thead th {\n",
       "        text-align: right;\n",
       "    }\n",
       "</style>\n",
       "<table border=\"1\" class=\"dataframe\">\n",
       "  <thead>\n",
       "    <tr style=\"text-align: right;\">\n",
       "      <th></th>\n",
       "      <th>total</th>\n",
       "      <th>percentage</th>\n",
       "      <th>min</th>\n",
       "      <th>avg</th>\n",
       "      <th>max</th>\n",
       "    </tr>\n",
       "    <tr>\n",
       "      <th>sales_method</th>\n",
       "      <th></th>\n",
       "      <th></th>\n",
       "      <th></th>\n",
       "      <th></th>\n",
       "      <th></th>\n",
       "    </tr>\n",
       "  </thead>\n",
       "  <tbody>\n",
       "    <tr>\n",
       "      <th>Email</th>\n",
       "      <td>720908.61</td>\n",
       "      <td>51.34</td>\n",
       "      <td>78.83</td>\n",
       "      <td>96.57</td>\n",
       "      <td>148.97</td>\n",
       "    </tr>\n",
       "    <tr>\n",
       "      <th>Email + Call</th>\n",
       "      <td>439492.19</td>\n",
       "      <td>31.30</td>\n",
       "      <td>89.50</td>\n",
       "      <td>170.88</td>\n",
       "      <td>238.32</td>\n",
       "    </tr>\n",
       "    <tr>\n",
       "      <th>Call</th>\n",
       "      <td>243712.52</td>\n",
       "      <td>17.36</td>\n",
       "      <td>32.54</td>\n",
       "      <td>49.13</td>\n",
       "      <td>89.50</td>\n",
       "    </tr>\n",
       "  </tbody>\n",
       "</table>\n",
       "</div>"
      ],
      "text/plain": [
       "                  total  percentage    min     avg     max\n",
       "sales_method                                              \n",
       "Email         720908.61       51.34  78.83   96.57  148.97\n",
       "Email + Call  439492.19       31.30  89.50  170.88  238.32\n",
       "Call          243712.52       17.36  32.54   49.13   89.50"
      ]
     },
     "execution_count": 20,
     "metadata": {},
     "output_type": "execute_result"
    }
   ],
   "source": [
    "# Grouping revenue by 'sales_method' and calculate the sum and percentage of revenue\n",
    "result = df.groupby('sales_method')['revenue'].agg(['sum', lambda x: x.sum() / df['revenue'].sum() * 100, 'min', 'mean','max'])\n",
    "\n",
    "# Renaming the columns of revenue table\n",
    "result.columns = ['total', 'percentage', 'min', 'avg', 'max']\n",
    "\n",
    "result.round(2).sort_values(by='total', ascending=False)"
   ]
  },
  {
   "cell_type": "code",
   "execution_count": 21,
   "id": "653a060e-ed76-4a9f-9b3a-44e1bb204cb5",
   "metadata": {
    "executionCancelledAt": null,
    "executionTime": 206,
    "lastExecutedAt": 1706615975607,
    "lastScheduledRunId": null,
    "lastSuccessfullyExecutedCode": "sns.boxplot(data=df, x='revenue', y='sales_method', order = ['Email', 'Call', 'Email + Call'], hue='sales_method', legend=False)\nplt.title(\"Figure 4: Revenue by Different Sales Approach\");"
   },
   "outputs": [
    {
     "data": {
      "image/png": "[encoded data removed]",
      "text/plain": [
       "<Figure size 640x480 with 1 Axes>"
      ]
     },
     "metadata": {},
     "output_type": "display_data"
    }
   ],
   "source": [
    "sns.boxplot(data=df, x='revenue', y='sales_method', order = ['Email', 'Call', 'Email + Call'], hue='sales_method', legend=False)\n",
    "plt.title(\"Figure 4: Revenue by Different Sales Approach\");"
   ]
  },
  {
   "cell_type": "markdown",
   "id": "f6e0e9a7-f71c-44ee-9bf1-244fcb85a814",
   "metadata": {},
   "source": [
    "From the summarized Revenue by Sales Approach in the grouped revenue table and Figure 4, several key insights emerge:\n",
    "\n",
    "- _Total Revenue by Each Approach_: Email stands out as the top revenue generator, which aligns with its extensive customer outreach. However, what's intriguing is that \"Email + Call\" secures the second position in terms of total revenue, accumulating nearly 440k USD, almost twice the revenue of \"Call,\" which achieves only 243k USD in total.\n",
    "\n",
    "- _Revenue Range Per Customer Variation_: \"Email + Call\" exhibits the widest range, spanning from 89.5 USD to 238.32 USD, indicating high variability and high revenue. In contrast, \"Call\" has a narrower range, from 32.54 USD to 89.5 USD, suggiesting low variability, and \"Email\" ranges from 78.83 USD to 148.97 USD.\n",
    "\n",
    "- _Concentration of Values_: An indepth analysis reveals that the majority of revenue for \"Email + Call\" clusters around 170.88 USD, demonstrating the highest average revenue per customer. This figure is nearly double that of \"Email\" (96.57 USD) and approximately four times that of \"Call\" (49.13 USD).\n",
    "\n",
    "These findings offer a fascinating perspective on revenue generation. While \"Email\" dominates in terms of total revenue, the remarkable performance of \"Email + Call\" stands out with its higher average revenue and broader revenue range. \"Call,\" on the other hand, faces challenges despite significant efforts (approximately 30 minutes per customer), and the average revenue earned per customer remains relatively low after 6 weeks."
   ]
  },
  {
   "cell_type": "markdown",
   "id": "fd8296e0-f804-45c8-8bbf-d598a1a3cd9a",
   "metadata": {},
   "source": [
    "## 3. Was there any difference in revenue over time for each of the methods?"
   ]
  },
  {
   "cell_type": "code",
   "execution_count": 22,
   "id": "97115cb7-4716-426f-910d-9496e0ccdac7",
   "metadata": {
    "executionCancelledAt": null,
    "executionTime": 55,
    "lastExecutedAt": 1706615975662,
    "lastScheduledRunId": null,
    "lastSuccessfullyExecutedCode": "# Grouping the revenue by `sales_method` and `week` \ngroup_revenue_by_method_week = df.groupby(['sales_method', 'week'])['revenue'].sum().reset_index()\n# Calculating cumulative revenue over weeks\ngroup_revenue_by_method_week['cumulative_revenue'] = group_revenue_by_method_week.groupby('sales_method')['revenue'].cumsum()\n# Pivoting the results\nrevenue_by_method_week = group_revenue_by_method_week.pivot(index='week', columns='sales_method', values='revenue')\ncummulative_revenue_by_method_week = group_revenue_by_method_week.pivot(index='week', columns='sales_method', values='cumulative_revenue')\n\n# Re-ordering the columns in the pivot table\nrevenue_by_method_week = revenue_by_method_week[['Email', 'Call', 'Email + Call']]\ncummulative_revenue_by_method_week = cummulative_revenue_by_method_week[['Email', 'Call', 'Email + Call']]\n"
   },
   "outputs": [],
   "source": [
    "# Grouping the revenue by `sales_method` and `week` \n",
    "group_revenue_by_method_week = df.groupby(['sales_method', 'week'])['revenue'].sum().reset_index()\n",
    "# Calculating cumulative revenue over weeks\n",
    "group_revenue_by_method_week['cumulative_revenue'] = group_revenue_by_method_week.groupby('sales_method')['revenue'].cumsum()\n",
    "# Pivoting the results\n",
    "revenue_by_method_week = group_revenue_by_method_week.pivot(index='week', columns='sales_method', values='revenue')\n",
    "cummulative_revenue_by_method_week = group_revenue_by_method_week.pivot(index='week', columns='sales_method', values='cumulative_revenue')\n",
    "\n",
    "# Re-ordering the columns in the pivot table\n",
    "revenue_by_method_week = revenue_by_method_week[['Email', 'Call', 'Email + Call']]\n",
    "cummulative_revenue_by_method_week = cummulative_revenue_by_method_week[['Email', 'Call', 'Email + Call']]\n"
   ]
  },
  {
   "cell_type": "code",
   "execution_count": 23,
   "id": "4ffe1a82-68a6-4807-bb90-10c46251f32c",
   "metadata": {
    "executionCancelledAt": null,
    "executionTime": 485,
    "lastExecutedAt": 1706615976148,
    "lastScheduledRunId": null,
    "lastSuccessfullyExecutedCode": "# Creating subplots with two columns\nfig, axes = plt.subplots(2, 1, figsize=(7, 9))\n\n# Ploting the bar chart for revenue in the first subplot\nrevenue_by_method_week.plot(kind='bar', ax=axes[0], title='Figure 5: Revenue by Sales Method and Week')\naxes[0].set_xlabel('week')\naxes[0].set_ylabel('revenue')\naxes[0].set_xticklabels(axes[0].get_xticklabels(), rotation=0)\n\n# Ploting the line graph for cumulative revenue in the second subplot\ncummulative_revenue_by_method_week.plot(kind='line', ax=axes[1], marker='o', title='Figure 6: Cumulative Revenue by Sales Method and Week')\naxes[1].set_xlabel('week')\naxes[1].set_ylabel('cumulative_revenue')\nplt.tight_layout()"
   },
   "outputs": [
    {
     "data": {
      "image/png": "[encoded data removed]",
      "text/plain": [
       "<Figure size 700x900 with 2 Axes>"
      ]
     },
     "metadata": {},
     "output_type": "display_data"
    }
   ],
   "source": [
    "# Creating subplots with two columns\n",
    "fig, axes = plt.subplots(2, 1, figsize=(7, 9))\n",
    "\n",
    "# Ploting the bar chart for revenue in the first subplot\n",
    "revenue_by_method_week.plot(kind='bar', ax=axes[0], title='Figure 5: Revenue by Sales Method and Week')\n",
    "axes[0].set_xlabel('week')\n",
    "axes[0].set_ylabel('revenue')\n",
    "axes[0].set_xticklabels(axes[0].get_xticklabels(), rotation=0)\n",
    "\n",
    "# Ploting the line graph for cumulative revenue in the second subplot\n",
    "cummulative_revenue_by_method_week.plot(kind='line', ax=axes[1], marker='o', title='Figure 6: Cumulative Revenue by Sales Method and Week')\n",
    "axes[1].set_xlabel('week')\n",
    "axes[1].set_ylabel('cumulative_revenue')\n",
    "plt.tight_layout()"
   ]
  },
  {
   "cell_type": "markdown",
   "id": "6010ed63-1095-40db-9cfc-5db212446ded",
   "metadata": {},
   "source": [
    "The element of time (week) was added to revenue. Figure 5 and Figure 6 demonstrate further insights:\n",
    "\n",
    "- _Revenue Trends Over Time_: While the total revenue of \"Email\" decreases over the weeks, the total revenue of \"Call\" and \"Email + Call\", on the other hand, increased as the weeks progressed.\n",
    "\n",
    "- _\"Email\" Revenue_: The total revenue generated by \"Email\" shows a decline over the weeks. It begins impressively with almost 250 USD in the first week but then plummets to just over 100k USD in the second week. There's a slight rise in week 4 due to follow-up emails, but it significantly drops to just under 25k USD in the sixth week - being the lowest revenue acquired in week 6.\n",
    "\n",
    "- _\"Call\" Revenue_: In contrast, \"Call\" starts the first week with strong revenue, reaching almost 30k USD, but its revenue growth remains limited. It reaches a peak of approximately 55k USD in the fifth week.\n",
    "\n",
    "- _\"Email + Call\" Revenue_: \"Email + Call\" displays a different trajectory. It demonstrates growth in the third week, reaching 50k USD. In week 5 and 6, this approach brought highest revenue earned around 130k USD.\n",
    "\n",
    "- _\"Comparison\"_: From the third week onwards, \"Email + Call\" starts to consistently outperform the cumulative revenue of the \"Call\" approach, and this difference increases as the weeks progress. This indicates that \"Email + Call\" becomes more lucrative than \"Call\" over time. Meanwhile, \"Email\" seems to be more effective in the first few weeks after launching but decreased over time."
   ]
  },
  {
   "cell_type": "markdown",
   "id": "d0c79bf6-9ef1-4872-bc86-b07037e1207e",
   "metadata": {},
   "source": [
    "## 4. Based on the data, which method would you recommend we continue to use?\n",
    "\n",
    "After conducting an in-depth Exploratory Data Analysis, it becomes evident that the \"Email + Call\" approach stands out as the most effective strategy for the sales team to target.\n",
    "\n",
    "Despite approaching only 2,572 customers in the last 6 weeks, which is one-third of the \"Email\" approach, \"Email + Call\" approach has yielded a remarkably high revenue. With an average of 84,217.07 USD per week, it is comparable to the 94,845.51 USD generated by the \"Email\" approach. Additionally, it demands significantly less effort from the sales team when compared to the labor-intensive \"Call\" approach.\n",
    "\n",
    "To put this into perspective, if the number of customers approached using the \"Email + Call\" method were increased threefold to match the number of \"Email\" approaches, the potential for revenue growth would be substantial.\n",
    "\n",
    "The **recommendation** would be fot the sales team to focus on and potentially expand the \"Email + Call\" approach, as it has demonstrated the capacity to deliver strong results combined with the efficient use of resources.\n"
   ]
  },
  {
   "cell_type": "code",
   "execution_count": 24,
   "id": "fb4ef83a-cb41-4c7b-af5d-2163b7292fd7",
   "metadata": {
    "executionCancelledAt": null,
    "executionTime": 47,
    "lastExecutedAt": 1706615976195,
    "lastScheduledRunId": null,
    "lastSuccessfullyExecutedCode": "# Calculating average increase in revenue for each approach each week\naverage_increase_per_approach = {}\n\n# Iterating through the sales methods\nfor method in ['Email', 'Call', 'Email + Call']:\n    method_data = cummulative_revenue_by_method_week[method].values\n    weekly_increase = method_data[1:] - method_data[:-1]  # Calculate the weekly revenue differences\n    average_increase = weekly_increase.mean()  # Calculate the mean of weekly revenue differences\n    average_increase_per_approach[method] = average_increase\n\n# Displaying the average increase in revenue for each approach each week\nprint(\"Average Weekly Increase in Revenue for Each Approach:\")\nfor method, average_increase in average_increase_per_approach.items():\n    print(f\"- {method}: ${average_increase:.2f}\")",
    "outputsMetadata": {
     "0": {
      "height": 97,
      "type": "stream"
     }
    }
   },
   "outputs": [
    {
     "name": "stdout",
     "output_type": "stream",
     "text": [
      "Average Weekly Increase in Revenue for Each Approach:\n",
      "- Email: $94845.51\n",
      "- Call: $43188.47\n",
      "- Email + Call: $84217.07\n"
     ]
    }
   ],
   "source": [
    "# Calculating average increase in revenue for each approach each week\n",
    "average_increase_per_approach = {}\n",
    "\n",
    "# Iterating through the sales methods\n",
    "for method in ['Email', 'Call', 'Email + Call']:\n",
    "    method_data = cummulative_revenue_by_method_week[method].values\n",
    "    weekly_increase = method_data[1:] - method_data[:-1]  # Calculate the weekly revenue differences\n",
    "    average_increase = weekly_increase.mean()  # Calculate the mean of weekly revenue differences\n",
    "    average_increase_per_approach[method] = average_increase\n",
    "\n",
    "# Displaying the average increase in revenue for each approach each week\n",
    "print(\"Average Weekly Increase in Revenue for Each Approach:\")\n",
    "for method, average_increase in average_increase_per_approach.items():\n",
    "    print(f\"- {method}: ${average_increase:.2f}\")"
   ]
  },
  {
   "cell_type": "markdown",
   "id": "d77b44b3-0d23-412b-b272-de9ba3ea9e53",
   "metadata": {},
   "source": [
    "# Task 3. Business Metrics\n",
    "\n",
    "**Metric**: Average Revenue per Customer by Sales Method.\n",
    "\n",
    "Definition: The \"Average Revenue per Customer by Sales Method\" metric is defined as the average revenue generated from customers for each of the different sales methods employed by the business. It measures the effectiveness of each sales approach (\"Email,\" \"Call,\" and \"Email + Call\") in terms of revenue contribution per customer.\n",
    "\n",
    "## How to Use the Metric\n",
    "\n",
    "In the previous Exploratory Data Analysis section, we uncovered that customers within each sales group exhibit varying preferences for products at different price points. Understanding this distinction is crucial for creating targeted marketing strategies and promotions that align with the customers' affordability and needs.\n",
    "\n",
    "To effectively utilize this metric, businesses can leverage the insights gained from analyzing the distribution of new product adoption within each sales method in combination with demographic distribution.\n",
    "\n",
    "The \"Average Revenue per Customer by Sales Method\" metric serves as a valuable tool for businesses to evaluate the revenue generation effectiveness of each sales method, including \"Email,\" \"Call,\" and \"Email + Call.\" Monitoring this metric enables data-driven decisions regarding resource allocation, sales strategies, and customer segmentation.\n",
    "\n",
    "By continuously tracking and analyzing this metric, businesses can refine their approach and adapt to changing customer behaviors, ultimately improving their revenue generation strategies.\n",
    "\n",
    "## Initial Metric Values\n",
    "Based on the current 6-week data and my calculation below, here are the estimated initial values for the \"Average Revenue per Customer by Sales Method\" metric:\n",
    "\n",
    "- Email + Call: 170.88 USD per customer\n",
    "- Email: 96.57 USD per customer\n",
    "- Call: 49.13 USD per customer\n",
    "These values align with our previous analysis, where \"Email + Call\" stands out as the most profitable approach, generating an average revenue of 170.88 USD per customer. \"Email\" and \"Call\" follow with 96.57 USD and 49.13 USD, respectively.\n",
    "\n",
    "These initial values provide a valuable benchmark for the business. They can be used as a baseline to set performance targets and to monitor changes in revenue generation in subsequent weeks or future marketing campaigns.\n",
    "\n"
   ]
  },
  {
   "cell_type": "code",
   "execution_count": 25,
   "id": "f16b05a4-c79a-42a8-b0d8-115d3509f279",
   "metadata": {
    "executionCancelledAt": null,
    "executionTime": 52,
    "lastExecutedAt": 1706615976247,
    "lastScheduledRunId": null,
    "lastSuccessfullyExecutedCode": "# Group the data by 'sales_method' and 'customer_id' and calculate the total revenue\nrevenue_by_customer = df.groupby(['sales_method', 'customer_id'])['revenue'].sum().reset_index()\n# Calculate the average revenue per customer for each sales method\naverage_revenue_by_method = revenue_by_customer.groupby('sales_method')['revenue'].mean().sort_values(ascending=False).round(2)\n\nprint(average_revenue_by_method)",
    "outputsMetadata": {
     "0": {
      "height": 117,
      "type": "stream"
     }
    }
   },
   "outputs": [
    {
     "name": "stdout",
     "output_type": "stream",
     "text": [
      "sales_method\n",
      "Email + Call    170.88\n",
      "Email            96.57\n",
      "Call             49.13\n",
      "Name: revenue, dtype: float64\n"
     ]
    }
   ],
   "source": [
    "# Group the data by 'sales_method' and 'customer_id' and calculate the total revenue\n",
    "revenue_by_customer = df.groupby(['sales_method', 'customer_id'])['revenue'].sum().reset_index()\n",
    "# Calculate the average revenue per customer for each sales method\n",
    "average_revenue_by_method = revenue_by_customer.groupby('sales_method')['revenue'].mean().sort_values(ascending=False).round(2)\n",
    "\n",
    "print(average_revenue_by_method)"
   ]
  },
  {
   "cell_type": "markdown",
   "id": "e9cc8346-7745-400c-af08-b99d938b5ef5",
   "metadata": {},
   "source": [
    "# Task 4. Final Summary & Recommendations\n",
    "\n",
    "Following a thorough examination of the provided data, we have acquired valuable insights into the effectiveness of various sales approaches employed by the business. Presented below is a condensed overview of our findings, accompanied by pertinent recommendations for the business.\n",
    "\n",
    "## Summary\n",
    "\n",
    "### Revenue Analysis\n",
    "- Sales Method Performance: \"Email + Call\" surpasses both \"Email\" and \"Call\" in terms of revenue generation. Although \"Email\" has a higher customer count, the revenue produced by \"Email + Call\" surpasses it, indicating a more impactful approach.\n",
    "\n",
    "### Time Trends\n",
    "- Revenue Trends Over Time: \"Email\" demonstrates an initial revenue peak that diminishes over time, while \"Call\" and \"Email + Call\" exhibit escalating revenues. Although \"Email\" may be more effective initially, \"Email + Call\" becomes increasingly lucrative over time.\n",
    "\n",
    "### Metric for Monitoring\n",
    "- Average Revenue per Customer by Sales Method: Continuous monitoring of this metric is essential for evaluating the revenue-generating efficacy of each sales method. It facilitates data-driven decisions regarding resource allocation, sales strategy, and customer segmentation.\n",
    "\n",
    "\n",
    "## Recommendations\n",
    "\n",
    "1. **Prioritize \"Email + Call\"**: Given its superior revenue performance over time, the business should consider allocating more resources and focus on the \"Email + Call\" approach. This approach has the potential to maximize revenue and reach a broader customer base.\n",
    "2. **Targeted \"Emails\"**: The \"Email\" approach also displayed somewhat positive results that trended upwards throughout the 6-week period. Thus, I would suggest the company conveys stronger value in messages with more targeted emails into their strategy as this could be a way to add some extra revenue to the pipeline with relatively no extra effort.\n",
    "3. **Continuous Monitoring**: Regularly track and analyze the \"Average Revenue per Customer by Sales Method\" metric to refine sales strategies and adapt to changing customer behaviors. This will lead to improved revenue generation strategies over time.\n",
    "4. **Improve Data Collection practices**: There were 1074 missing values in the revenue column and this missing information could be the difference between achieving the goal or not. Thus, it is important to pay extra attention to Data Quality and Collection techniques.\n",
    "\n",
    "By implementing these recommendations and considering the insights gained from this analysis, the business can optimize its sales methods, gain a deeper understanding of customer preferences, and enhance overall revenue generation efforts. This data-driven approach positions the business for sustained growth and success."
   ]
  },
  {
   "cell_type": "markdown",
   "id": "9c5042af-7f73-4808-b735-c262418c9395",
   "metadata": {},
   "source": [
    "## ✅ When you have finished...\n",
    "-  Publish your Workspace using the option on the left\n",
    "-  Check the published version of your report:\n",
    "\t-  Can you see everything you want us to grade?\n",
    "    -  Are all the graphics visible?\n",
    "-  Review the grading rubric. Have you included everything that will be graded?\n",
    "-  Head back to the [Certification Dashboard](https://app.datacamp.com/certification) to submit your practical exam report and record your presentation"
   ]
  }
 ],
 "metadata": {
  "colab": {
   "name": "Welcome to DataCamp Workspaces.ipynb",
   "provenance": []
  },
  "kernelspec": {
   "display_name": "Python 3 (ipykernel)",
   "language": "python",
   "name": "python3"
  },
  "language_info": {
   "codemirror_mode": {
    "name": "ipython",
    "version": 3
   },
   "file_extension": ".py",
   "mimetype": "text/x-python",
   "name": "python",
   "nbconvert_exporter": "python",
   "pygments_lexer": "ipython3",
   "version": "3.11.8"
  }
 },
 "nbformat": 4,
 "nbformat_minor": 5
}
